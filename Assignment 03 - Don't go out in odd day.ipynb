{
 "cells": [
  {
   "cell_type": "markdown",
   "id": "fa082885",
   "metadata": {},
   "source": [
    "# Assignment 03 - *Don't go out in odd day* #"
   ]
  },
  {
   "cell_type": "code",
   "execution_count": 3,
   "id": "f5ff2d07",
   "metadata": {},
   "outputs": [
    {
     "name": "stdout",
     "output_type": "stream",
     "text": [
      "No of even numbers : 4\n",
      "No of odd  numbers : 5\n"
     ]
    }
   ],
   "source": [
    "l = [1,2,3,4,5,6,7,8,9]\n",
    "count_odd = 0\n",
    "count_even = 0\n",
    "for i in l:\n",
    "    if i % 2==0 and i > 0 :\n",
    "        count_even += 1\n",
    "    elif i %2 == 1 and i > 0 :\n",
    "        count_odd += 1\n",
    "print(\"No of even numbers :\",count_even)\n",
    "print(\"No of odd  numbers :\",count_odd)"
   ]
  }
 ],
 "metadata": {
  "kernelspec": {
   "display_name": "Python 3 (ipykernel)",
   "language": "python",
   "name": "python3"
  },
  "language_info": {
   "codemirror_mode": {
    "name": "ipython",
    "version": 3
   },
   "file_extension": ".py",
   "mimetype": "text/x-python",
   "name": "python",
   "nbconvert_exporter": "python",
   "pygments_lexer": "ipython3",
   "version": "3.10.2"
  }
 },
 "nbformat": 4,
 "nbformat_minor": 5
}
